{
  "nbformat": 4,
  "nbformat_minor": 0,
  "metadata": {
    "colab": {
      "provenance": [],
      "authorship_tag": "ABX9TyNvikfYhdaOfBRtye/SZXBy",
      "include_colab_link": true
    },
    "kernelspec": {
      "name": "python3",
      "display_name": "Python 3"
    },
    "language_info": {
      "name": "python"
    }
  },
  "cells": [
    {
      "cell_type": "markdown",
      "metadata": {
        "id": "view-in-github",
        "colab_type": "text"
      },
      "source": [
        "<a href=\"https://colab.research.google.com/github/034adarsh/034adarsh/blob/main/sampling_distribution_using_python.ipynb\" target=\"_parent\"><img src=\"https://colab.research.google.com/assets/colab-badge.svg\" alt=\"Open In Colab\"/></a>"
      ]
    },
    {
      "cell_type": "markdown",
      "source": [
        "In statistics, sampling distribution is a theoretical distribution that describes the possible outcomes of a statistic that we might observe from a random sample drawn from a given population. Sampling distribution is an important concept in statistics as it helps us to make statistical inferences about the population.\n",
        "\n",
        "\n",
        "\n",
        "---\n",
        "\n",
        "\n",
        "⚓ To generate a sampling distribution in Python, we need to follow these steps:\n",
        "1.   Define the population\n",
        "2.   Define the sample size\n",
        "3.   Generate the sample means\n",
        "4.   Plot the sampling distribution  \n"
      ],
      "metadata": {
        "id": "kjNXJ3O9EYPn"
      }
    },
    {
      "cell_type": "markdown",
      "source": [
        "Step 1: Define the population\n",
        "\n",
        "---\n",
        "\n",
        "\n",
        "\n",
        "> The first step is to define the population from which we will draw random samples. In this example, we will assume that the population is normally distributed with a mean of 50 and a standard deviation of 10. We can use the NumPy library to generate random numbers from a normal distribution.\n",
        "\n",
        "The np.random.normal() function takes three arguments: loc for the mean, scale for the standard deviation, and size for the number of samples to generate."
      ],
      "metadata": {
        "id": "gHhrXMJpFrfl"
      }
    },
    {
      "cell_type": "code",
      "execution_count": null,
      "metadata": {
        "id": "X533USSDEEOx"
      },
      "outputs": [],
      "source": [
        "import numpy as np\n",
        "\n",
        "# Generate a normally distributed population\n",
        "population = np.random.normal(loc=50, scale=10, size=10000)"
      ]
    },
    {
      "cell_type": "markdown",
      "source": [
        "Step 2: Define the sample size\n",
        "\n",
        "\n",
        "> The next step is to define the sample size that we will use to generate the sampling distribution. In this example, we will assume a sample size of 30.\n",
        "\n",
        "\n",
        "\n"
      ],
      "metadata": {
        "id": "appQM1poH_OR"
      }
    },
    {
      "cell_type": "code",
      "source": [
        "# Define the sample size\n",
        "sample_size = 5"
      ],
      "metadata": {
        "id": "xBZLMtPQHzYo"
      },
      "execution_count": null,
      "outputs": []
    },
    {
      "cell_type": "markdown",
      "source": [
        "Step 3: Generate the sample means\n",
        "\n",
        "\n",
        "> Now that we have defined the population and the sample size, we can generate the sample means by taking random samples from the population and calculating their means. We will repeat this process multiple times to generate multiple sample means. This is known as bootstrapping.\n",
        "\n"
      ],
      "metadata": {
        "id": "vgTLwJbNJBEz"
      }
    },
    {
      "cell_type": "code",
      "source": [
        "# Create an empty array to store the sample means\n",
        "sample_means = np.empty(1000)\n",
        "\n",
        "# Generate 1000 samples of size 30 from the population, calculate their means, and store them in the array\n",
        "for i in range(1000):\n",
        "    sample = np.random.choice(population, size=sample_size, replace=False)\n",
        "    sample_means[i] = np.mean(sample)"
      ],
      "metadata": {
        "id": "NMV_jcE9QCXF"
      },
      "execution_count": null,
      "outputs": []
    },
    {
      "cell_type": "markdown",
      "source": [
        "Step 4: Plot the sampling distribution\n",
        "\n",
        "\n",
        "> Finally, we can visualize the sampling distribution by plotting a histogram of the sample means. We can use the Matplotlib library to create the histogram.\n",
        "\n"
      ],
      "metadata": {
        "id": "w7fq6_0eQkgn"
      }
    },
    {
      "cell_type": "code",
      "source": [
        "# Plot the sampling distribution\n",
        "import matplotlib.pyplot as plt\n",
        "plt.hist(sample_means, bins=30)\n",
        "plt.xlabel('Sample Means')\n",
        "plt.ylabel('Frequency')\n",
        "plt.title('Sampling Distribution of the Mean')\n",
        "plt.show()"
      ],
      "metadata": {
        "colab": {
          "base_uri": "https://localhost:8080/",
          "height": 472
        },
        "id": "yqaaHYrhQst9",
        "outputId": "bebeb979-859b-4e61-999e-e34d49dff0aa"
      },
      "execution_count": null,
      "outputs": [
        {
          "output_type": "display_data",
          "data": {
            "text/plain": [
              "<Figure size 640x480 with 1 Axes>"
            ],
            "image/png": "[encoded data removed]"
          },
          "metadata": {}
        }
      ]
    },
    {
      "cell_type": "markdown",
      "source": [
        "In this example, we have plotted a histogram of the sample_means array using 30 bins. We have also added labels to the x-axis, y-axis, and title to make the plot more informative."
      ],
      "metadata": {
        "id": "nIxBwMXOQy8R"
      }
    }
  ]
}